{
 "cells": [
  {
   "cell_type": "code",
   "execution_count": 2,
   "id": "2d3c5974-05cd-4253-bcff-7288d4748990",
   "metadata": {},
   "outputs": [],
   "source": [
    "import pandas as pd"
   ]
  },
  {
   "cell_type": "code",
   "execution_count": null,
   "id": "cb49255b-3f72-46ea-85c5-ad3175736944",
   "metadata": {},
   "outputs": [],
   "source": [
    "pd.read_excel(\"../Bakery Data/bakery_operations_data_2024.xlsx\")"
   ]
  }
 ],
 "metadata": {
  "kernelspec": {
   "display_name": "Python 3 (ipykernel)",
   "language": "python",
   "name": "python3"
  },
  "language_info": {
   "codemirror_mode": {
    "name": "ipython",
    "version": 3
   },
   "file_extension": ".py",
   "mimetype": "text/x-python",
   "name": "python",
   "nbconvert_exporter": "python",
   "pygments_lexer": "ipython3",
   "version": "3.12.2"
  }
 },
 "nbformat": 4,
 "nbformat_minor": 5
}
